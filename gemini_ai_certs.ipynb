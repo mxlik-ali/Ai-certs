{
 "cells": [
  {
   "cell_type": "markdown",
   "id": "3b988f02-872f-4975-95f8-764da3e26daa",
   "metadata": {},
   "source": [
    "## Sentiment Analysis Using LLM (Gemini Ai)\n",
    "Here we will pwerform Sentiment analysis using python and a LLM"
   ]
  },
  {
   "cell_type": "code",
   "execution_count": 42,
   "id": "bafbbdd0-5eeb-4a29-b882-94553aee3e22",
   "metadata": {},
   "outputs": [],
   "source": [
    "#Import the necessary libraries\n",
    "import plotly.express as px\n",
    "from matplotlib import pyplot as plt\n",
    "import matplotlib\n",
    "import seaborn as sns\n",
    "import ftfy\n",
    "import string\n",
    "import re\n",
    "from transformers import pipeline\n",
    "import pandas as pd"
   ]
  },
  {
   "cell_type": "code",
   "execution_count": 43,
   "id": "58859a19-ae4c-4b07-bb85-f0c3fe6ef557",
   "metadata": {},
   "outputs": [],
   "source": [
    "#Read csv file\n",
    "df = pd.read_csv('user_review.csv')"
   ]
  },
  {
   "cell_type": "code",
   "execution_count": 44,
   "id": "163ecc8b-622d-4bcc-a75b-6f0d8d78375f",
   "metadata": {},
   "outputs": [
    {
     "data": {
      "text/html": [
       "<div>\n",
       "<style scoped>\n",
       "    .dataframe tbody tr th:only-of-type {\n",
       "        vertical-align: middle;\n",
       "    }\n",
       "\n",
       "    .dataframe tbody tr th {\n",
       "        vertical-align: top;\n",
       "    }\n",
       "\n",
       "    .dataframe thead th {\n",
       "        text-align: right;\n",
       "    }\n",
       "</style>\n",
       "<table border=\"1\" class=\"dataframe\">\n",
       "  <thead>\n",
       "    <tr style=\"text-align: right;\">\n",
       "      <th></th>\n",
       "      <th>id</th>\n",
       "      <th>review</th>\n",
       "    </tr>\n",
       "  </thead>\n",
       "  <tbody>\n",
       "    <tr>\n",
       "      <th>0</th>\n",
       "      <td>1</td>\n",
       "      <td>I love this app! It is so useful and easy to use.</td>\n",
       "    </tr>\n",
       "    <tr>\n",
       "      <th>1</th>\n",
       "      <td>2</td>\n",
       "      <td>Terrible experience. The app crashes all the t...</td>\n",
       "    </tr>\n",
       "    <tr>\n",
       "      <th>2</th>\n",
       "      <td>3</td>\n",
       "      <td>Decent app but needs improvement in the UI.</td>\n",
       "    </tr>\n",
       "    <tr>\n",
       "      <th>3</th>\n",
       "      <td>4</td>\n",
       "      <td>Fantastic! This app has changed my life.</td>\n",
       "    </tr>\n",
       "    <tr>\n",
       "      <th>4</th>\n",
       "      <td>5</td>\n",
       "      <td>The app is okay, but it lacks many features.</td>\n",
       "    </tr>\n",
       "  </tbody>\n",
       "</table>\n",
       "</div>"
      ],
      "text/plain": [
       "   id                                             review\n",
       "0   1  I love this app! It is so useful and easy to use.\n",
       "1   2  Terrible experience. The app crashes all the t...\n",
       "2   3        Decent app but needs improvement in the UI.\n",
       "3   4           Fantastic! This app has changed my life.\n",
       "4   5       The app is okay, but it lacks many features."
      ]
     },
     "execution_count": 44,
     "metadata": {},
     "output_type": "execute_result"
    }
   ],
   "source": [
    "df.head()"
   ]
  },
  {
   "cell_type": "markdown",
   "id": "a463f107-2e89-42f9-ad73-36599ddc4b76",
   "metadata": {},
   "source": [
    "## Data Preprocessing\n",
    " Clean encoding issues using ftfy library"
   ]
  },
  {
   "cell_type": "code",
   "execution_count": 45,
   "id": "757f28d1-699b-43c8-914d-4ffd28c43b64",
   "metadata": {},
   "outputs": [],
   "source": [
    "df['review'] = df['review'].apply(ftfy.fix_text)"
   ]
  },
  {
   "cell_type": "markdown",
   "id": "d6a4ae52-d1f0-4194-84b0-c6460a7047da",
   "metadata": {},
   "source": [
    "## Text preprocessing function\n",
    "The preprocess_text function helps in standardizing and simplifying the text data by:\n",
    " 1 Converting all text to lowercase, ensuring consistency.\n",
    " 2 Removing punctuation, reducing noise and simplifying the text."
   ]
  },
  {
   "cell_type": "code",
   "execution_count": 46,
   "id": "31178748-b933-4ee6-b638-c46b8b9474f3",
   "metadata": {},
   "outputs": [],
   "source": [
    "def preprocess_text(text):\n",
    "     #Lowercase the text\n",
    "    text = text.lower()\n",
    "    #Remove punctuation marks\n",
    "    text = text.translate(str.maketrans('', '', string.punctuation))\n",
    "    def clean_text(text):\n",
    "        '''\n",
    "        Utility function to clean tweet text by removing links, special characters\n",
    "        using simple regex statements.\n",
    "        '''\n",
    "        return ' '.join(re.sub(\"(@[A-Za-z0-9]+)|([^0-9A-Za-z \\t])|(\\w+:\\/\\/\\S+)\", \" \", text).split())\n",
    "    text = clean_text(text)\n",
    "    return text\n",
    "\n",
    "df['cleaned_review'] = df['review'].apply(preprocess_text)"
   ]
  },
  {
   "cell_type": "markdown",
   "id": "b4024422-e5f1-40bc-8636-f3d1b2c290c8",
   "metadata": {},
   "source": [
    "## Setting up the Gemini API key\n",
    "Install the necessary packages and import them"
   ]
  },
  {
   "cell_type": "code",
   "execution_count": 47,
   "id": "e7f8d224-20c2-4b14-a4d7-8cdaaed58b60",
   "metadata": {},
   "outputs": [
    {
     "name": "stderr",
     "output_type": "stream",
     "text": [
      "\n",
      "[notice] A new release of pip is available: 23.3.2 -> 24.0\n",
      "[notice] To update, run: python.exe -m pip install --upgrade pip\n"
     ]
    }
   ],
   "source": [
    "!pip install -q -U google-generativeai"
   ]
  },
  {
   "cell_type": "code",
   "execution_count": 48,
   "id": "4fa231ef-f8ab-40b9-a884-17846bd43731",
   "metadata": {},
   "outputs": [],
   "source": [
    "import pathlib\n",
    "import textwrap\n",
    "import google.generativeai as genai\n",
    "from IPython.display import display\n",
    "from IPython.display import Markdown\n",
    "import time\n",
    "\n",
    "def to_markdown(text):\n",
    "    text = text.replace('*','  *')\n",
    "    return Markdown(textwrap.indent(text,'> ',predicate=lambda _: True))\n"
   ]
  },
  {
   "cell_type": "code",
   "execution_count": 49,
   "id": "dfd94cd5-16a5-4e8d-b07a-e80f987b5879",
   "metadata": {},
   "outputs": [],
   "source": [
    "GOOGLE_API_KEY = 'Input your SECRET API key here'\n",
    "genai.configure(api_key=GOOGLE_API_KEY)"
   ]
  },
  {
   "cell_type": "code",
   "execution_count": 50,
   "id": "fc694148-925e-4178-9a2d-d00266b6944a",
   "metadata": {},
   "outputs": [
    {
     "name": "stdout",
     "output_type": "stream",
     "text": [
      "models/gemini-1.0-pro\n",
      "models/gemini-1.0-pro-001\n",
      "models/gemini-1.0-pro-latest\n",
      "models/gemini-1.0-pro-vision-latest\n",
      "models/gemini-1.5-flash\n",
      "models/gemini-1.5-flash-001\n",
      "models/gemini-1.5-flash-latest\n",
      "models/gemini-1.5-pro\n",
      "models/gemini-1.5-pro-001\n",
      "models/gemini-1.5-pro-latest\n",
      "models/gemini-pro\n",
      "models/gemini-pro-vision\n"
     ]
    }
   ],
   "source": [
    "for m in genai.list_models():\n",
    "    if 'generateContent' in  m.supported_generation_methods:\n",
    "        print(m.name)"
   ]
  },
  {
   "cell_type": "code",
   "execution_count": 51,
   "id": "1e49f6b2-daf9-48de-aadb-ac486b99bee9",
   "metadata": {},
   "outputs": [],
   "source": [
    "model = genai.GenerativeModel('gemini-pro')"
   ]
  },
  {
   "cell_type": "code",
   "execution_count": 52,
   "id": "96dc9cb1-3291-4f6d-9cf3-b69bfc767bd3",
   "metadata": {
    "scrolled": true
   },
   "outputs": [
    {
     "data": {
      "text/markdown": [
       "> The meaning of life is a philosophical question that has been pondered by humans for centuries. There is no one definitive answer, as the meaning of life is subjective and can vary from person to person. However, some common themes that emerge when discussing the meaning of life include:\n",
       "> \n",
       ">   *   *  *Purpose:  *  * Many people believe that life has a purpose, whether it is to fulfill a specific goal, to make a positive impact on the world, or to create a legacy.\n",
       ">   *   *  *Happiness:  *  * For some, the meaning of life is to find happiness and fulfillment. This can be achieved through a variety of means, such as pursuing personal interests, building relationships, or experiencing new things.\n",
       ">   *   *  *Meaning:  *  * Some people believe that the meaning of life is to find meaning in their own experiences. This can involve exploring the world around them, learning new things, or connecting with others.\n",
       ">   *   *  *Legacy:  *  * For others, the meaning of life is to leave a lasting legacy. This can be done through creative work, making a difference in the world, or raising a family.\n",
       "> \n",
       "> Ultimately, the meaning of life is something that each person must discover for themselves. There is no right or wrong answer, and the journey of discovery can be a rewarding one.\n",
       "> \n",
       "> Here are some additional thoughts on the meaning of life:\n",
       "> \n",
       ">   * The meaning of life is not static, but can change over time. As we grow and learn, our understanding of what is meaningful to us may also evolve.\n",
       ">   * The meaning of life is not something that can be found in a book or from an expert. It is something that each person must discover for themselves through their own experiences.\n",
       ">   * The journey of discovering the meaning of life is often more important than the destination. The process of exploration can lead to new insights, growth, and fulfillment."
      ],
      "text/plain": [
       "<IPython.core.display.Markdown object>"
      ]
     },
     "execution_count": 52,
     "metadata": {},
     "output_type": "execute_result"
    }
   ],
   "source": [
    "#Testing the GEMINI API\n",
    "\n",
    "response = model.generate_content(\"What is the meaning of life\")\n",
    "to_markdown(response.text)"
   ]
  },
  {
   "cell_type": "code",
   "execution_count": 53,
   "id": "ece2d399-07b6-44c7-a983-0a5acb8d9480",
   "metadata": {},
   "outputs": [],
   "source": [
    "df['pred_label'] = ''"
   ]
  },
  {
   "cell_type": "code",
   "execution_count": 54,
   "id": "e3f0660e-9b96-4ea5-b995-353cf651f299",
   "metadata": {},
   "outputs": [],
   "source": [
    "#Convert the Dataframe to JSON using to_json() method\n",
    "\n",
    "json_data = df.to_json(orient='records')"
   ]
  },
  {
   "cell_type": "code",
   "execution_count": 55,
   "id": "1454e876-7790-4336-91ed-e94f9de13694",
   "metadata": {},
   "outputs": [],
   "source": [
    "prompt = f\"\"\"\n",
    "\n",
    "You are an expert linguist, who is good at classifying customer review sentiments into Positive/Neutral/Negative labels.\n",
    "Help me classify customer reviews into: Positive (label=1),Neutral (label=2) and Negative (label=0).\n",
    "Customer reviews are provided between three back ticks.\n",
    "In your output, only return the Json code back as output which is provided between three backticks.\n",
    "Your task is to update predicted labels under 'pred label' in the Json code.\n",
    "Don't make any changes to Json code format, please.\n",
    "```\n",
    "{json_data}\n",
    "```\n",
    "\"\"\"\n",
    "#print(prompt)"
   ]
  },
  {
   "cell_type": "code",
   "execution_count": 56,
   "id": "f7d8a749-858c-44a5-a1c6-444c4512b267",
   "metadata": {},
   "outputs": [
    {
     "name": "stdout",
     "output_type": "stream",
     "text": [
      "```\n",
      "[{\"id\":1,\"review\":\"I love this app! It is so useful and easy to use.\",\"cleaned_review\":\"i love this app it is so useful and easy to use\",\"pred_label\":1},{\"id\":2,\"review\":\"Terrible experience. The app crashes all the time.\",\"cleaned_review\":\"terrible experience the app crashes all the time\",\"pred_label\":0},{\"id\":3,\"review\":\"Decent app but needs improvement in the UI.\",\"cleaned_review\":\"decent app but needs improvement in the ui\",\"pred_label\":2},{\"id\":4,\"review\":\"Fantastic! This app has changed my life.\",\"cleaned_review\":\"fantastic this app has changed my life\",\"pred_label\":1},{\"id\":5,\"review\":\"The app is okay, but it lacks many features.\",\"cleaned_review\":\"the app is okay but it lacks many features\",\"pred_label\":2},{\"id\":6,\"review\":\"Worst app ever. It is full of bugs.\",\"cleaned_review\":\"worst app ever it is full of bugs\",\"pred_label\":0},{\"id\":7,\"review\":\"Excellent functionality and user-friendly design.\",\"cleaned_review\":\"excellent functionality and userfriendly design\",\"pred_label\":1},{\"id\":8,\"review\":\"Not bad, but there are better alternatives out there.\",\"cleaned_review\":\"not bad but there are better alternatives out there\",\"pred_label\":2},{\"id\":9,\"review\":\"I'm very satisfied with this app. Highly recommended!\",\"cleaned_review\":\"im very satisfied with this app highly recommended\",\"pred_label\":1},{\"id\":10,\"review\":\"The app is slow and unresponsive at times.\",\"cleaned_review\":\"the app is slow and unresponsive at times\",\"pred_label\":0},{\"id\":11,\"review\":\"Good app, but it could use some updates.\",\"cleaned_review\":\"good app but it could use some updates\",\"pred_label\":2},{\"id\":12,\"review\":\"I had a bad experience. The customer support is unhelpful.\",\"cleaned_review\":\"i had a bad experience the customer support is unhelpful\",\"pred_label\":0},{\"id\":13,\"review\":\"Amazing app! Very intuitive and efficient.\",\"cleaned_review\":\"amazing app very intuitive and efficient\",\"pred_label\":1},{\"id\":14,\"review\":\"It's an average app. Nothing special.\",\"cleaned_review\":\"its an average app nothing special\",\"pred_label\":2},{\"id\":15,\"review\":\"I've been using this app for months and I love it.\",\"cleaned_review\":\"ive been using this app for months and i love it\",\"pred_label\":1},{\"id\":16,\"review\":\"Disappointed. The app doesn't work as advertised.\",\"cleaned_review\":\"disappointed the app doesnt work as advertised\",\"pred_label\":0},{\"id\":17,\"review\":\"Pretty good app, but there's room for improvement.\",\"cleaned_review\":\"pretty good app but theres room for improvement\",\"pred_label\":2},{\"id\":18,\"review\":\"I wouldn't recommend this app to anyone.\",\"cleaned_review\":\"i wouldnt recommend this app to anyone\",\"pred_label\":0},{\"id\":19,\"review\":\"The app is great, but it crashes occasionally.\",\"cleaned_review\":\"the app is great but it crashes occasionally\",\"pred_label\":1},{\"id\":20,\"review\":\"Very pleased with this app. It meets all my needs.\",\"cleaned_review\":\"very pleased with this app it meets all my needs\",\"pred_label\":1},{\"id\":21,\"review\":\"This app exceeded my expectations.\",\"cleaned_review\":\"this app exceeded my expectations\",\"pred_label\":1},{\"id\":22,\"review\":\"The interface is cluttered and confusing.\",\"cleaned_review\":\"the interface is cluttered and confusing\",\"pred_label\":0},{\"id\":23,\"review\":\"Great app, but a bit overpriced.\",\"cleaned_review\":\"great app but a bit overpriced\",\"pred_label\":2},{\"id\":24,\"review\":\"Very buggy. Needs a lot of improvements.\",\"cleaned_review\":\"very buggy needs a lot of improvements\",\"pred_label\":0},{\"id\":25,\"review\":\"The customer service was excellent.\",\"cleaned_review\":\"the customer service was excellent\",\"pred_label\":1},{\"id\":26,\"review\":\"I found this app to be very intuitive.\",\"cleaned_review\":\"i found this app to be very intuitive\",\"pred_label\":1},{\"id\":27,\"review\":\"Not worth the money. I want a refund.\",\"cleaned_review\":\"not worth the money i want a refund\",\"pred_label\":0},{\"id\":28,\"review\":\"The best app in its category!\",\"cleaned_review\":\"the best app in its category\",\"pred_label\":1},{\"id\":29,\"review\":\"The latest update broke many features.\",\"cleaned_review\":\"the latest update broke many features\",\"pred_label\":0},{\"id\":30,\"review\":\"Highly useful for my daily tasks.\",\"cleaned_review\":\"highly useful for my daily tasks\",\"pred_label\":1},{\"id\":31,\"review\":\"I encountered frequent crashes.\",\"cleaned_review\":\"i encountered frequent crashes\",\"pred_label\":0},{\"id\":32,\"review\":\"Very satisfied with the performance.\",\"cleaned_review\":\"very satisfied with the performance\",\"pred_label\":1},{\"id\":33,\"review\":\"The design is sleek and modern.\",\"cleaned_review\":\"the design is sleek and modern\",\"pred_label\":1},{\"id\":34,\"review\":\"The app is not compatible with my device.\",\"cleaned_review\":\"the app is not compatible with my device\",\"pred_label\":0},{\"id\":35,\"review\":\"I love the new features in the latest update.\",\"cleaned_review\":\"i love the new features in the latest update\",\"pred_label\":1},{\"id\":36,\"review\":\"The app drains my battery quickly.\",\"cleaned_review\":\"the app drains my battery quickly\",\"pred_label\":0},{\"id\":37,\"review\":\"User-friendly and efficient.\",\"cleaned_review\":\"userfriendly and efficient\",\"pred_label\":1},{\"id\":38,\"review\":\"Too many ads make it unusable.\",\"cleaned_review\":\"too many ads make it unusable\",\"pred_label\":0},{\"id\":39,\"review\":\"Reliable and performs well.\",\"cleaned_review\":\"reliable and performs well\",\"pred_label\":1},{\"id\":40,\"review\":\"The app is okay but needs more features.\",\"cleaned_review\":\"the app is okay but needs more features\",\"pred_label\":2},{\"id\":41,\"review\":\"It's good, but I had higher expectations.\",\"cleaned_review\":\"its good but i had higher expectations\",\"pred_label\":2},{\"id\":42,\"review\":\"I've had a smooth experience so far.\",\"cleaned_review\":\"ive had a smooth experience so far\",\"pred_label\":1},{\"id\":43,\"review\":\"Not intuitive at all. Very complicated.\",\"cleaned_review\":\"not intuitive at all very complicated\",\"pred_label\":0},{\"id\":44,\"review\":\"One of the best apps I've used.\",\"cleaned_review\":\"one of the best apps ive used\",\"pred_label\":1},{\"id\":45,\"review\":\"The app often freezes and crashes.\",\"cleaned_review\":\"the app often freezes and crashes\",\"pred_label\":0},{\"id\":46,\"review\":\"Helpful customer support.\",\"cleaned_review\":\"helpful customer support\",\"pred_label\":1},{\"id\":47,\"review\":\"The app doesn't have enough tutorials.\",\"cleaned_review\":\"the app doesnt have enough tutorials\",\"pred_label\":0},{\"id\":48,\"review\":\"Fantastic performance and reliability.\",\"cleaned_review\":\"fantastic performance and reliability\",\"pred_label\":1},{\"id\":49,\"review\":\"I wouldn't use any other app.\",\"cleaned_review\":\"i wouldnt use any other app\",\"pred_label\":1},{\"id\":50,\"review\":\"The app could use a dark mode.\",\"cleaned_review\":\"the app could use a dark mode\",\"pred_label\":2}]\n",
      "```\n"
     ]
    }
   ],
   "source": [
    "response = model.generate_content(prompt)\n",
    "print(response.text)"
   ]
  },
  {
   "cell_type": "code",
   "execution_count": 57,
   "id": "37d55c42-8043-4741-93c2-df4b2a35a269",
   "metadata": {},
   "outputs": [],
   "source": [
    "import json\n",
    "#Clean the data by stripping the backtics\n",
    "json_data = response.text.strip(\"`\")\n",
    "# Remove the 'json' prefix and any extraneous characters\n",
    "json_data = json_data.replace('json\\n', '').strip()\n",
    "\n",
    "# Load the cleaned data and convert it to a DataFrame\n",
    "try:\n",
    "    data = json.loads(json_data)\n",
    "    results_df = pd.DataFrame(data)\n",
    "    #print(results_df)\n",
    "except json.JSONDecodeError as e:\n",
    "    print(f\"JSONDecodeError: {e}\")\n",
    "    print(\"The JSON data is not properly formatted. Please check the response.\")"
   ]
  },
  {
   "cell_type": "code",
   "execution_count": 58,
   "id": "b48fb917-6bc8-4e50-8d49-820557ca1d88",
   "metadata": {},
   "outputs": [],
   "source": [
    "results_df['pred_label'] = results_df['pred_label'].replace({1: 'POSITIVE', 0: 'NEGATIVE', 2: 'NEUTRAL'})"
   ]
  },
  {
   "cell_type": "code",
   "execution_count": 59,
   "id": "57caab99-fbab-47a1-b7e4-fa7e31c960d8",
   "metadata": {},
   "outputs": [
    {
     "data": {
      "text/html": [
       "<div>\n",
       "<style scoped>\n",
       "    .dataframe tbody tr th:only-of-type {\n",
       "        vertical-align: middle;\n",
       "    }\n",
       "\n",
       "    .dataframe tbody tr th {\n",
       "        vertical-align: top;\n",
       "    }\n",
       "\n",
       "    .dataframe thead th {\n",
       "        text-align: right;\n",
       "    }\n",
       "</style>\n",
       "<table border=\"1\" class=\"dataframe\">\n",
       "  <thead>\n",
       "    <tr style=\"text-align: right;\">\n",
       "      <th></th>\n",
       "      <th>id</th>\n",
       "      <th>review</th>\n",
       "      <th>cleaned_review</th>\n",
       "      <th>pred_label</th>\n",
       "    </tr>\n",
       "  </thead>\n",
       "  <tbody>\n",
       "    <tr>\n",
       "      <th>0</th>\n",
       "      <td>1</td>\n",
       "      <td>I love this app! It is so useful and easy to use.</td>\n",
       "      <td>i love this app it is so useful and easy to use</td>\n",
       "      <td>POSITIVE</td>\n",
       "    </tr>\n",
       "    <tr>\n",
       "      <th>1</th>\n",
       "      <td>2</td>\n",
       "      <td>Terrible experience. The app crashes all the t...</td>\n",
       "      <td>terrible experience the app crashes all the time</td>\n",
       "      <td>NEGATIVE</td>\n",
       "    </tr>\n",
       "    <tr>\n",
       "      <th>2</th>\n",
       "      <td>3</td>\n",
       "      <td>Decent app but needs improvement in the UI.</td>\n",
       "      <td>decent app but needs improvement in the ui</td>\n",
       "      <td>NEUTRAL</td>\n",
       "    </tr>\n",
       "    <tr>\n",
       "      <th>3</th>\n",
       "      <td>4</td>\n",
       "      <td>Fantastic! This app has changed my life.</td>\n",
       "      <td>fantastic this app has changed my life</td>\n",
       "      <td>POSITIVE</td>\n",
       "    </tr>\n",
       "    <tr>\n",
       "      <th>4</th>\n",
       "      <td>5</td>\n",
       "      <td>The app is okay, but it lacks many features.</td>\n",
       "      <td>the app is okay but it lacks many features</td>\n",
       "      <td>NEUTRAL</td>\n",
       "    </tr>\n",
       "    <tr>\n",
       "      <th>5</th>\n",
       "      <td>6</td>\n",
       "      <td>Worst app ever. It is full of bugs.</td>\n",
       "      <td>worst app ever it is full of bugs</td>\n",
       "      <td>NEGATIVE</td>\n",
       "    </tr>\n",
       "    <tr>\n",
       "      <th>6</th>\n",
       "      <td>7</td>\n",
       "      <td>Excellent functionality and user-friendly design.</td>\n",
       "      <td>excellent functionality and userfriendly design</td>\n",
       "      <td>POSITIVE</td>\n",
       "    </tr>\n",
       "    <tr>\n",
       "      <th>7</th>\n",
       "      <td>8</td>\n",
       "      <td>Not bad, but there are better alternatives out...</td>\n",
       "      <td>not bad but there are better alternatives out ...</td>\n",
       "      <td>NEUTRAL</td>\n",
       "    </tr>\n",
       "    <tr>\n",
       "      <th>8</th>\n",
       "      <td>9</td>\n",
       "      <td>I'm very satisfied with this app. Highly recom...</td>\n",
       "      <td>im very satisfied with this app highly recomme...</td>\n",
       "      <td>POSITIVE</td>\n",
       "    </tr>\n",
       "    <tr>\n",
       "      <th>9</th>\n",
       "      <td>10</td>\n",
       "      <td>The app is slow and unresponsive at times.</td>\n",
       "      <td>the app is slow and unresponsive at times</td>\n",
       "      <td>NEGATIVE</td>\n",
       "    </tr>\n",
       "    <tr>\n",
       "      <th>10</th>\n",
       "      <td>11</td>\n",
       "      <td>Good app, but it could use some updates.</td>\n",
       "      <td>good app but it could use some updates</td>\n",
       "      <td>NEUTRAL</td>\n",
       "    </tr>\n",
       "    <tr>\n",
       "      <th>11</th>\n",
       "      <td>12</td>\n",
       "      <td>I had a bad experience. The customer support i...</td>\n",
       "      <td>i had a bad experience the customer support is...</td>\n",
       "      <td>NEGATIVE</td>\n",
       "    </tr>\n",
       "    <tr>\n",
       "      <th>12</th>\n",
       "      <td>13</td>\n",
       "      <td>Amazing app! Very intuitive and efficient.</td>\n",
       "      <td>amazing app very intuitive and efficient</td>\n",
       "      <td>POSITIVE</td>\n",
       "    </tr>\n",
       "    <tr>\n",
       "      <th>13</th>\n",
       "      <td>14</td>\n",
       "      <td>It's an average app. Nothing special.</td>\n",
       "      <td>its an average app nothing special</td>\n",
       "      <td>NEUTRAL</td>\n",
       "    </tr>\n",
       "    <tr>\n",
       "      <th>14</th>\n",
       "      <td>15</td>\n",
       "      <td>I've been using this app for months and I love...</td>\n",
       "      <td>ive been using this app for months and i love it</td>\n",
       "      <td>POSITIVE</td>\n",
       "    </tr>\n",
       "    <tr>\n",
       "      <th>15</th>\n",
       "      <td>16</td>\n",
       "      <td>Disappointed. The app doesn't work as advertised.</td>\n",
       "      <td>disappointed the app doesnt work as advertised</td>\n",
       "      <td>NEGATIVE</td>\n",
       "    </tr>\n",
       "    <tr>\n",
       "      <th>16</th>\n",
       "      <td>17</td>\n",
       "      <td>Pretty good app, but there's room for improvem...</td>\n",
       "      <td>pretty good app but theres room for improvement</td>\n",
       "      <td>NEUTRAL</td>\n",
       "    </tr>\n",
       "    <tr>\n",
       "      <th>17</th>\n",
       "      <td>18</td>\n",
       "      <td>I wouldn't recommend this app to anyone.</td>\n",
       "      <td>i wouldnt recommend this app to anyone</td>\n",
       "      <td>NEGATIVE</td>\n",
       "    </tr>\n",
       "    <tr>\n",
       "      <th>18</th>\n",
       "      <td>19</td>\n",
       "      <td>The app is great, but it crashes occasionally.</td>\n",
       "      <td>the app is great but it crashes occasionally</td>\n",
       "      <td>POSITIVE</td>\n",
       "    </tr>\n",
       "    <tr>\n",
       "      <th>19</th>\n",
       "      <td>20</td>\n",
       "      <td>Very pleased with this app. It meets all my ne...</td>\n",
       "      <td>very pleased with this app it meets all my needs</td>\n",
       "      <td>POSITIVE</td>\n",
       "    </tr>\n",
       "    <tr>\n",
       "      <th>20</th>\n",
       "      <td>21</td>\n",
       "      <td>This app exceeded my expectations.</td>\n",
       "      <td>this app exceeded my expectations</td>\n",
       "      <td>POSITIVE</td>\n",
       "    </tr>\n",
       "    <tr>\n",
       "      <th>21</th>\n",
       "      <td>22</td>\n",
       "      <td>The interface is cluttered and confusing.</td>\n",
       "      <td>the interface is cluttered and confusing</td>\n",
       "      <td>NEGATIVE</td>\n",
       "    </tr>\n",
       "    <tr>\n",
       "      <th>22</th>\n",
       "      <td>23</td>\n",
       "      <td>Great app, but a bit overpriced.</td>\n",
       "      <td>great app but a bit overpriced</td>\n",
       "      <td>NEUTRAL</td>\n",
       "    </tr>\n",
       "    <tr>\n",
       "      <th>23</th>\n",
       "      <td>24</td>\n",
       "      <td>Very buggy. Needs a lot of improvements.</td>\n",
       "      <td>very buggy needs a lot of improvements</td>\n",
       "      <td>NEGATIVE</td>\n",
       "    </tr>\n",
       "    <tr>\n",
       "      <th>24</th>\n",
       "      <td>25</td>\n",
       "      <td>The customer service was excellent.</td>\n",
       "      <td>the customer service was excellent</td>\n",
       "      <td>POSITIVE</td>\n",
       "    </tr>\n",
       "    <tr>\n",
       "      <th>25</th>\n",
       "      <td>26</td>\n",
       "      <td>I found this app to be very intuitive.</td>\n",
       "      <td>i found this app to be very intuitive</td>\n",
       "      <td>POSITIVE</td>\n",
       "    </tr>\n",
       "    <tr>\n",
       "      <th>26</th>\n",
       "      <td>27</td>\n",
       "      <td>Not worth the money. I want a refund.</td>\n",
       "      <td>not worth the money i want a refund</td>\n",
       "      <td>NEGATIVE</td>\n",
       "    </tr>\n",
       "    <tr>\n",
       "      <th>27</th>\n",
       "      <td>28</td>\n",
       "      <td>The best app in its category!</td>\n",
       "      <td>the best app in its category</td>\n",
       "      <td>POSITIVE</td>\n",
       "    </tr>\n",
       "    <tr>\n",
       "      <th>28</th>\n",
       "      <td>29</td>\n",
       "      <td>The latest update broke many features.</td>\n",
       "      <td>the latest update broke many features</td>\n",
       "      <td>NEGATIVE</td>\n",
       "    </tr>\n",
       "    <tr>\n",
       "      <th>29</th>\n",
       "      <td>30</td>\n",
       "      <td>Highly useful for my daily tasks.</td>\n",
       "      <td>highly useful for my daily tasks</td>\n",
       "      <td>POSITIVE</td>\n",
       "    </tr>\n",
       "    <tr>\n",
       "      <th>30</th>\n",
       "      <td>31</td>\n",
       "      <td>I encountered frequent crashes.</td>\n",
       "      <td>i encountered frequent crashes</td>\n",
       "      <td>NEGATIVE</td>\n",
       "    </tr>\n",
       "    <tr>\n",
       "      <th>31</th>\n",
       "      <td>32</td>\n",
       "      <td>Very satisfied with the performance.</td>\n",
       "      <td>very satisfied with the performance</td>\n",
       "      <td>POSITIVE</td>\n",
       "    </tr>\n",
       "    <tr>\n",
       "      <th>32</th>\n",
       "      <td>33</td>\n",
       "      <td>The design is sleek and modern.</td>\n",
       "      <td>the design is sleek and modern</td>\n",
       "      <td>POSITIVE</td>\n",
       "    </tr>\n",
       "    <tr>\n",
       "      <th>33</th>\n",
       "      <td>34</td>\n",
       "      <td>The app is not compatible with my device.</td>\n",
       "      <td>the app is not compatible with my device</td>\n",
       "      <td>NEGATIVE</td>\n",
       "    </tr>\n",
       "    <tr>\n",
       "      <th>34</th>\n",
       "      <td>35</td>\n",
       "      <td>I love the new features in the latest update.</td>\n",
       "      <td>i love the new features in the latest update</td>\n",
       "      <td>POSITIVE</td>\n",
       "    </tr>\n",
       "    <tr>\n",
       "      <th>35</th>\n",
       "      <td>36</td>\n",
       "      <td>The app drains my battery quickly.</td>\n",
       "      <td>the app drains my battery quickly</td>\n",
       "      <td>NEGATIVE</td>\n",
       "    </tr>\n",
       "    <tr>\n",
       "      <th>36</th>\n",
       "      <td>37</td>\n",
       "      <td>User-friendly and efficient.</td>\n",
       "      <td>userfriendly and efficient</td>\n",
       "      <td>POSITIVE</td>\n",
       "    </tr>\n",
       "    <tr>\n",
       "      <th>37</th>\n",
       "      <td>38</td>\n",
       "      <td>Too many ads make it unusable.</td>\n",
       "      <td>too many ads make it unusable</td>\n",
       "      <td>NEGATIVE</td>\n",
       "    </tr>\n",
       "    <tr>\n",
       "      <th>38</th>\n",
       "      <td>39</td>\n",
       "      <td>Reliable and performs well.</td>\n",
       "      <td>reliable and performs well</td>\n",
       "      <td>POSITIVE</td>\n",
       "    </tr>\n",
       "    <tr>\n",
       "      <th>39</th>\n",
       "      <td>40</td>\n",
       "      <td>The app is okay but needs more features.</td>\n",
       "      <td>the app is okay but needs more features</td>\n",
       "      <td>NEUTRAL</td>\n",
       "    </tr>\n",
       "    <tr>\n",
       "      <th>40</th>\n",
       "      <td>41</td>\n",
       "      <td>It's good, but I had higher expectations.</td>\n",
       "      <td>its good but i had higher expectations</td>\n",
       "      <td>NEUTRAL</td>\n",
       "    </tr>\n",
       "    <tr>\n",
       "      <th>41</th>\n",
       "      <td>42</td>\n",
       "      <td>I've had a smooth experience so far.</td>\n",
       "      <td>ive had a smooth experience so far</td>\n",
       "      <td>POSITIVE</td>\n",
       "    </tr>\n",
       "    <tr>\n",
       "      <th>42</th>\n",
       "      <td>43</td>\n",
       "      <td>Not intuitive at all. Very complicated.</td>\n",
       "      <td>not intuitive at all very complicated</td>\n",
       "      <td>NEGATIVE</td>\n",
       "    </tr>\n",
       "    <tr>\n",
       "      <th>43</th>\n",
       "      <td>44</td>\n",
       "      <td>One of the best apps I've used.</td>\n",
       "      <td>one of the best apps ive used</td>\n",
       "      <td>POSITIVE</td>\n",
       "    </tr>\n",
       "    <tr>\n",
       "      <th>44</th>\n",
       "      <td>45</td>\n",
       "      <td>The app often freezes and crashes.</td>\n",
       "      <td>the app often freezes and crashes</td>\n",
       "      <td>NEGATIVE</td>\n",
       "    </tr>\n",
       "    <tr>\n",
       "      <th>45</th>\n",
       "      <td>46</td>\n",
       "      <td>Helpful customer support.</td>\n",
       "      <td>helpful customer support</td>\n",
       "      <td>POSITIVE</td>\n",
       "    </tr>\n",
       "    <tr>\n",
       "      <th>46</th>\n",
       "      <td>47</td>\n",
       "      <td>The app doesn't have enough tutorials.</td>\n",
       "      <td>the app doesnt have enough tutorials</td>\n",
       "      <td>NEGATIVE</td>\n",
       "    </tr>\n",
       "    <tr>\n",
       "      <th>47</th>\n",
       "      <td>48</td>\n",
       "      <td>Fantastic performance and reliability.</td>\n",
       "      <td>fantastic performance and reliability</td>\n",
       "      <td>POSITIVE</td>\n",
       "    </tr>\n",
       "    <tr>\n",
       "      <th>48</th>\n",
       "      <td>49</td>\n",
       "      <td>I wouldn't use any other app.</td>\n",
       "      <td>i wouldnt use any other app</td>\n",
       "      <td>POSITIVE</td>\n",
       "    </tr>\n",
       "    <tr>\n",
       "      <th>49</th>\n",
       "      <td>50</td>\n",
       "      <td>The app could use a dark mode.</td>\n",
       "      <td>the app could use a dark mode</td>\n",
       "      <td>NEUTRAL</td>\n",
       "    </tr>\n",
       "  </tbody>\n",
       "</table>\n",
       "</div>"
      ],
      "text/plain": [
       "    id                                             review  \\\n",
       "0    1  I love this app! It is so useful and easy to use.   \n",
       "1    2  Terrible experience. The app crashes all the t...   \n",
       "2    3        Decent app but needs improvement in the UI.   \n",
       "3    4           Fantastic! This app has changed my life.   \n",
       "4    5       The app is okay, but it lacks many features.   \n",
       "5    6                Worst app ever. It is full of bugs.   \n",
       "6    7  Excellent functionality and user-friendly design.   \n",
       "7    8  Not bad, but there are better alternatives out...   \n",
       "8    9  I'm very satisfied with this app. Highly recom...   \n",
       "9   10         The app is slow and unresponsive at times.   \n",
       "10  11           Good app, but it could use some updates.   \n",
       "11  12  I had a bad experience. The customer support i...   \n",
       "12  13         Amazing app! Very intuitive and efficient.   \n",
       "13  14              It's an average app. Nothing special.   \n",
       "14  15  I've been using this app for months and I love...   \n",
       "15  16  Disappointed. The app doesn't work as advertised.   \n",
       "16  17  Pretty good app, but there's room for improvem...   \n",
       "17  18           I wouldn't recommend this app to anyone.   \n",
       "18  19     The app is great, but it crashes occasionally.   \n",
       "19  20  Very pleased with this app. It meets all my ne...   \n",
       "20  21                 This app exceeded my expectations.   \n",
       "21  22          The interface is cluttered and confusing.   \n",
       "22  23                   Great app, but a bit overpriced.   \n",
       "23  24           Very buggy. Needs a lot of improvements.   \n",
       "24  25                The customer service was excellent.   \n",
       "25  26             I found this app to be very intuitive.   \n",
       "26  27              Not worth the money. I want a refund.   \n",
       "27  28                      The best app in its category!   \n",
       "28  29             The latest update broke many features.   \n",
       "29  30                  Highly useful for my daily tasks.   \n",
       "30  31                    I encountered frequent crashes.   \n",
       "31  32               Very satisfied with the performance.   \n",
       "32  33                    The design is sleek and modern.   \n",
       "33  34          The app is not compatible with my device.   \n",
       "34  35      I love the new features in the latest update.   \n",
       "35  36                 The app drains my battery quickly.   \n",
       "36  37                       User-friendly and efficient.   \n",
       "37  38                     Too many ads make it unusable.   \n",
       "38  39                        Reliable and performs well.   \n",
       "39  40           The app is okay but needs more features.   \n",
       "40  41          It's good, but I had higher expectations.   \n",
       "41  42               I've had a smooth experience so far.   \n",
       "42  43            Not intuitive at all. Very complicated.   \n",
       "43  44                    One of the best apps I've used.   \n",
       "44  45                 The app often freezes and crashes.   \n",
       "45  46                          Helpful customer support.   \n",
       "46  47             The app doesn't have enough tutorials.   \n",
       "47  48             Fantastic performance and reliability.   \n",
       "48  49                      I wouldn't use any other app.   \n",
       "49  50                     The app could use a dark mode.   \n",
       "\n",
       "                                       cleaned_review pred_label  \n",
       "0     i love this app it is so useful and easy to use   POSITIVE  \n",
       "1    terrible experience the app crashes all the time   NEGATIVE  \n",
       "2          decent app but needs improvement in the ui    NEUTRAL  \n",
       "3              fantastic this app has changed my life   POSITIVE  \n",
       "4          the app is okay but it lacks many features    NEUTRAL  \n",
       "5                   worst app ever it is full of bugs   NEGATIVE  \n",
       "6     excellent functionality and userfriendly design   POSITIVE  \n",
       "7   not bad but there are better alternatives out ...    NEUTRAL  \n",
       "8   im very satisfied with this app highly recomme...   POSITIVE  \n",
       "9           the app is slow and unresponsive at times   NEGATIVE  \n",
       "10             good app but it could use some updates    NEUTRAL  \n",
       "11  i had a bad experience the customer support is...   NEGATIVE  \n",
       "12           amazing app very intuitive and efficient   POSITIVE  \n",
       "13                 its an average app nothing special    NEUTRAL  \n",
       "14   ive been using this app for months and i love it   POSITIVE  \n",
       "15     disappointed the app doesnt work as advertised   NEGATIVE  \n",
       "16    pretty good app but theres room for improvement    NEUTRAL  \n",
       "17             i wouldnt recommend this app to anyone   NEGATIVE  \n",
       "18       the app is great but it crashes occasionally   POSITIVE  \n",
       "19   very pleased with this app it meets all my needs   POSITIVE  \n",
       "20                  this app exceeded my expectations   POSITIVE  \n",
       "21           the interface is cluttered and confusing   NEGATIVE  \n",
       "22                     great app but a bit overpriced    NEUTRAL  \n",
       "23             very buggy needs a lot of improvements   NEGATIVE  \n",
       "24                 the customer service was excellent   POSITIVE  \n",
       "25              i found this app to be very intuitive   POSITIVE  \n",
       "26                not worth the money i want a refund   NEGATIVE  \n",
       "27                       the best app in its category   POSITIVE  \n",
       "28              the latest update broke many features   NEGATIVE  \n",
       "29                   highly useful for my daily tasks   POSITIVE  \n",
       "30                     i encountered frequent crashes   NEGATIVE  \n",
       "31                very satisfied with the performance   POSITIVE  \n",
       "32                     the design is sleek and modern   POSITIVE  \n",
       "33           the app is not compatible with my device   NEGATIVE  \n",
       "34       i love the new features in the latest update   POSITIVE  \n",
       "35                  the app drains my battery quickly   NEGATIVE  \n",
       "36                         userfriendly and efficient   POSITIVE  \n",
       "37                      too many ads make it unusable   NEGATIVE  \n",
       "38                         reliable and performs well   POSITIVE  \n",
       "39            the app is okay but needs more features    NEUTRAL  \n",
       "40             its good but i had higher expectations    NEUTRAL  \n",
       "41                 ive had a smooth experience so far   POSITIVE  \n",
       "42              not intuitive at all very complicated   NEGATIVE  \n",
       "43                      one of the best apps ive used   POSITIVE  \n",
       "44                  the app often freezes and crashes   NEGATIVE  \n",
       "45                           helpful customer support   POSITIVE  \n",
       "46               the app doesnt have enough tutorials   NEGATIVE  \n",
       "47              fantastic performance and reliability   POSITIVE  \n",
       "48                        i wouldnt use any other app   POSITIVE  \n",
       "49                      the app could use a dark mode    NEUTRAL  "
      ]
     },
     "execution_count": 59,
     "metadata": {},
     "output_type": "execute_result"
    }
   ],
   "source": [
    "results_df"
   ]
  },
  {
   "cell_type": "markdown",
   "id": "b2289aab-6890-4466-925a-d94f4b87d714",
   "metadata": {},
   "source": [
    "## Bar Plot\n",
    "Plot the Bar for the Generated Results"
   ]
  },
  {
   "cell_type": "code",
   "execution_count": 60,
   "id": "47ccd317-a0bf-4133-b384-563f7aa18634",
   "metadata": {},
   "outputs": [
    {
     "data": {
      "application/vnd.plotly.v1+json": {
       "config": {
        "plotlyServerURL": "https://plot.ly"
       },
       "data": [
        {
         "alignmentgroup": "True",
         "bingroup": "x",
         "hovertemplate": "pred_label=%{x}<br>count=%{y}<extra></extra>",
         "legendgroup": "",
         "marker": {
          "color": "#636efa",
          "pattern": {
           "shape": ""
          }
         },
         "name": "",
         "offsetgroup": "",
         "orientation": "v",
         "showlegend": false,
         "type": "histogram",
         "x": [
          "POSITIVE",
          "NEGATIVE",
          "NEUTRAL",
          "POSITIVE",
          "NEUTRAL",
          "NEGATIVE",
          "POSITIVE",
          "NEUTRAL",
          "POSITIVE",
          "NEGATIVE",
          "NEUTRAL",
          "NEGATIVE",
          "POSITIVE",
          "NEUTRAL",
          "POSITIVE",
          "NEGATIVE",
          "NEUTRAL",
          "NEGATIVE",
          "POSITIVE",
          "POSITIVE",
          "POSITIVE",
          "NEGATIVE",
          "NEUTRAL",
          "NEGATIVE",
          "POSITIVE",
          "POSITIVE",
          "NEGATIVE",
          "POSITIVE",
          "NEGATIVE",
          "POSITIVE",
          "NEGATIVE",
          "POSITIVE",
          "POSITIVE",
          "NEGATIVE",
          "POSITIVE",
          "NEGATIVE",
          "POSITIVE",
          "NEGATIVE",
          "POSITIVE",
          "NEUTRAL",
          "NEUTRAL",
          "POSITIVE",
          "NEGATIVE",
          "POSITIVE",
          "NEGATIVE",
          "POSITIVE",
          "NEGATIVE",
          "POSITIVE",
          "POSITIVE",
          "NEUTRAL"
         ],
         "xaxis": "x",
         "yaxis": "y"
        },
        {
         "alignmentgroup": "True",
         "hovertemplate": "pred_label=%{x}<extra></extra>",
         "legendgroup": "",
         "marker": {
          "color": "#636efa"
         },
         "name": "",
         "notched": true,
         "offsetgroup": "",
         "showlegend": false,
         "type": "box",
         "x": [
          "POSITIVE",
          "NEGATIVE",
          "NEUTRAL",
          "POSITIVE",
          "NEUTRAL",
          "NEGATIVE",
          "POSITIVE",
          "NEUTRAL",
          "POSITIVE",
          "NEGATIVE",
          "NEUTRAL",
          "NEGATIVE",
          "POSITIVE",
          "NEUTRAL",
          "POSITIVE",
          "NEGATIVE",
          "NEUTRAL",
          "NEGATIVE",
          "POSITIVE",
          "POSITIVE",
          "POSITIVE",
          "NEGATIVE",
          "NEUTRAL",
          "NEGATIVE",
          "POSITIVE",
          "POSITIVE",
          "NEGATIVE",
          "POSITIVE",
          "NEGATIVE",
          "POSITIVE",
          "NEGATIVE",
          "POSITIVE",
          "POSITIVE",
          "NEGATIVE",
          "POSITIVE",
          "NEGATIVE",
          "POSITIVE",
          "NEGATIVE",
          "POSITIVE",
          "NEUTRAL",
          "NEUTRAL",
          "POSITIVE",
          "NEGATIVE",
          "POSITIVE",
          "NEGATIVE",
          "POSITIVE",
          "NEGATIVE",
          "POSITIVE",
          "POSITIVE",
          "NEUTRAL"
         ],
         "xaxis": "x2",
         "yaxis": "y2"
        }
       ],
       "layout": {
        "bargap": 0.1,
        "barmode": "relative",
        "height": 500,
        "legend": {
         "tracegroupgap": 0
        },
        "template": {
         "data": {
          "bar": [
           {
            "error_x": {
             "color": "#2a3f5f"
            },
            "error_y": {
             "color": "#2a3f5f"
            },
            "marker": {
             "line": {
              "color": "#E5ECF6",
              "width": 0.5
             },
             "pattern": {
              "fillmode": "overlay",
              "size": 10,
              "solidity": 0.2
             }
            },
            "type": "bar"
           }
          ],
          "barpolar": [
           {
            "marker": {
             "line": {
              "color": "#E5ECF6",
              "width": 0.5
             },
             "pattern": {
              "fillmode": "overlay",
              "size": 10,
              "solidity": 0.2
             }
            },
            "type": "barpolar"
           }
          ],
          "carpet": [
           {
            "aaxis": {
             "endlinecolor": "#2a3f5f",
             "gridcolor": "white",
             "linecolor": "white",
             "minorgridcolor": "white",
             "startlinecolor": "#2a3f5f"
            },
            "baxis": {
             "endlinecolor": "#2a3f5f",
             "gridcolor": "white",
             "linecolor": "white",
             "minorgridcolor": "white",
             "startlinecolor": "#2a3f5f"
            },
            "type": "carpet"
           }
          ],
          "choropleth": [
           {
            "colorbar": {
             "outlinewidth": 0,
             "ticks": ""
            },
            "type": "choropleth"
           }
          ],
          "contour": [
           {
            "colorbar": {
             "outlinewidth": 0,
             "ticks": ""
            },
            "colorscale": [
             [
              0,
              "#0d0887"
             ],
             [
              0.1111111111111111,
              "#46039f"
             ],
             [
              0.2222222222222222,
              "#7201a8"
             ],
             [
              0.3333333333333333,
              "#9c179e"
             ],
             [
              0.4444444444444444,
              "#bd3786"
             ],
             [
              0.5555555555555556,
              "#d8576b"
             ],
             [
              0.6666666666666666,
              "#ed7953"
             ],
             [
              0.7777777777777778,
              "#fb9f3a"
             ],
             [
              0.8888888888888888,
              "#fdca26"
             ],
             [
              1,
              "#f0f921"
             ]
            ],
            "type": "contour"
           }
          ],
          "contourcarpet": [
           {
            "colorbar": {
             "outlinewidth": 0,
             "ticks": ""
            },
            "type": "contourcarpet"
           }
          ],
          "heatmap": [
           {
            "colorbar": {
             "outlinewidth": 0,
             "ticks": ""
            },
            "colorscale": [
             [
              0,
              "#0d0887"
             ],
             [
              0.1111111111111111,
              "#46039f"
             ],
             [
              0.2222222222222222,
              "#7201a8"
             ],
             [
              0.3333333333333333,
              "#9c179e"
             ],
             [
              0.4444444444444444,
              "#bd3786"
             ],
             [
              0.5555555555555556,
              "#d8576b"
             ],
             [
              0.6666666666666666,
              "#ed7953"
             ],
             [
              0.7777777777777778,
              "#fb9f3a"
             ],
             [
              0.8888888888888888,
              "#fdca26"
             ],
             [
              1,
              "#f0f921"
             ]
            ],
            "type": "heatmap"
           }
          ],
          "heatmapgl": [
           {
            "colorbar": {
             "outlinewidth": 0,
             "ticks": ""
            },
            "colorscale": [
             [
              0,
              "#0d0887"
             ],
             [
              0.1111111111111111,
              "#46039f"
             ],
             [
              0.2222222222222222,
              "#7201a8"
             ],
             [
              0.3333333333333333,
              "#9c179e"
             ],
             [
              0.4444444444444444,
              "#bd3786"
             ],
             [
              0.5555555555555556,
              "#d8576b"
             ],
             [
              0.6666666666666666,
              "#ed7953"
             ],
             [
              0.7777777777777778,
              "#fb9f3a"
             ],
             [
              0.8888888888888888,
              "#fdca26"
             ],
             [
              1,
              "#f0f921"
             ]
            ],
            "type": "heatmapgl"
           }
          ],
          "histogram": [
           {
            "marker": {
             "pattern": {
              "fillmode": "overlay",
              "size": 10,
              "solidity": 0.2
             }
            },
            "type": "histogram"
           }
          ],
          "histogram2d": [
           {
            "colorbar": {
             "outlinewidth": 0,
             "ticks": ""
            },
            "colorscale": [
             [
              0,
              "#0d0887"
             ],
             [
              0.1111111111111111,
              "#46039f"
             ],
             [
              0.2222222222222222,
              "#7201a8"
             ],
             [
              0.3333333333333333,
              "#9c179e"
             ],
             [
              0.4444444444444444,
              "#bd3786"
             ],
             [
              0.5555555555555556,
              "#d8576b"
             ],
             [
              0.6666666666666666,
              "#ed7953"
             ],
             [
              0.7777777777777778,
              "#fb9f3a"
             ],
             [
              0.8888888888888888,
              "#fdca26"
             ],
             [
              1,
              "#f0f921"
             ]
            ],
            "type": "histogram2d"
           }
          ],
          "histogram2dcontour": [
           {
            "colorbar": {
             "outlinewidth": 0,
             "ticks": ""
            },
            "colorscale": [
             [
              0,
              "#0d0887"
             ],
             [
              0.1111111111111111,
              "#46039f"
             ],
             [
              0.2222222222222222,
              "#7201a8"
             ],
             [
              0.3333333333333333,
              "#9c179e"
             ],
             [
              0.4444444444444444,
              "#bd3786"
             ],
             [
              0.5555555555555556,
              "#d8576b"
             ],
             [
              0.6666666666666666,
              "#ed7953"
             ],
             [
              0.7777777777777778,
              "#fb9f3a"
             ],
             [
              0.8888888888888888,
              "#fdca26"
             ],
             [
              1,
              "#f0f921"
             ]
            ],
            "type": "histogram2dcontour"
           }
          ],
          "mesh3d": [
           {
            "colorbar": {
             "outlinewidth": 0,
             "ticks": ""
            },
            "type": "mesh3d"
           }
          ],
          "parcoords": [
           {
            "line": {
             "colorbar": {
              "outlinewidth": 0,
              "ticks": ""
             }
            },
            "type": "parcoords"
           }
          ],
          "pie": [
           {
            "automargin": true,
            "type": "pie"
           }
          ],
          "scatter": [
           {
            "fillpattern": {
             "fillmode": "overlay",
             "size": 10,
             "solidity": 0.2
            },
            "type": "scatter"
           }
          ],
          "scatter3d": [
           {
            "line": {
             "colorbar": {
              "outlinewidth": 0,
              "ticks": ""
             }
            },
            "marker": {
             "colorbar": {
              "outlinewidth": 0,
              "ticks": ""
             }
            },
            "type": "scatter3d"
           }
          ],
          "scattercarpet": [
           {
            "marker": {
             "colorbar": {
              "outlinewidth": 0,
              "ticks": ""
             }
            },
            "type": "scattercarpet"
           }
          ],
          "scattergeo": [
           {
            "marker": {
             "colorbar": {
              "outlinewidth": 0,
              "ticks": ""
             }
            },
            "type": "scattergeo"
           }
          ],
          "scattergl": [
           {
            "marker": {
             "colorbar": {
              "outlinewidth": 0,
              "ticks": ""
             }
            },
            "type": "scattergl"
           }
          ],
          "scattermapbox": [
           {
            "marker": {
             "colorbar": {
              "outlinewidth": 0,
              "ticks": ""
             }
            },
            "type": "scattermapbox"
           }
          ],
          "scatterpolar": [
           {
            "marker": {
             "colorbar": {
              "outlinewidth": 0,
              "ticks": ""
             }
            },
            "type": "scatterpolar"
           }
          ],
          "scatterpolargl": [
           {
            "marker": {
             "colorbar": {
              "outlinewidth": 0,
              "ticks": ""
             }
            },
            "type": "scatterpolargl"
           }
          ],
          "scatterternary": [
           {
            "marker": {
             "colorbar": {
              "outlinewidth": 0,
              "ticks": ""
             }
            },
            "type": "scatterternary"
           }
          ],
          "surface": [
           {
            "colorbar": {
             "outlinewidth": 0,
             "ticks": ""
            },
            "colorscale": [
             [
              0,
              "#0d0887"
             ],
             [
              0.1111111111111111,
              "#46039f"
             ],
             [
              0.2222222222222222,
              "#7201a8"
             ],
             [
              0.3333333333333333,
              "#9c179e"
             ],
             [
              0.4444444444444444,
              "#bd3786"
             ],
             [
              0.5555555555555556,
              "#d8576b"
             ],
             [
              0.6666666666666666,
              "#ed7953"
             ],
             [
              0.7777777777777778,
              "#fb9f3a"
             ],
             [
              0.8888888888888888,
              "#fdca26"
             ],
             [
              1,
              "#f0f921"
             ]
            ],
            "type": "surface"
           }
          ],
          "table": [
           {
            "cells": {
             "fill": {
              "color": "#EBF0F8"
             },
             "line": {
              "color": "white"
             }
            },
            "header": {
             "fill": {
              "color": "#C8D4E3"
             },
             "line": {
              "color": "white"
             }
            },
            "type": "table"
           }
          ]
         },
         "layout": {
          "annotationdefaults": {
           "arrowcolor": "#2a3f5f",
           "arrowhead": 0,
           "arrowwidth": 1
          },
          "autotypenumbers": "strict",
          "coloraxis": {
           "colorbar": {
            "outlinewidth": 0,
            "ticks": ""
           }
          },
          "colorscale": {
           "diverging": [
            [
             0,
             "#8e0152"
            ],
            [
             0.1,
             "#c51b7d"
            ],
            [
             0.2,
             "#de77ae"
            ],
            [
             0.3,
             "#f1b6da"
            ],
            [
             0.4,
             "#fde0ef"
            ],
            [
             0.5,
             "#f7f7f7"
            ],
            [
             0.6,
             "#e6f5d0"
            ],
            [
             0.7,
             "#b8e186"
            ],
            [
             0.8,
             "#7fbc41"
            ],
            [
             0.9,
             "#4d9221"
            ],
            [
             1,
             "#276419"
            ]
           ],
           "sequential": [
            [
             0,
             "#0d0887"
            ],
            [
             0.1111111111111111,
             "#46039f"
            ],
            [
             0.2222222222222222,
             "#7201a8"
            ],
            [
             0.3333333333333333,
             "#9c179e"
            ],
            [
             0.4444444444444444,
             "#bd3786"
            ],
            [
             0.5555555555555556,
             "#d8576b"
            ],
            [
             0.6666666666666666,
             "#ed7953"
            ],
            [
             0.7777777777777778,
             "#fb9f3a"
            ],
            [
             0.8888888888888888,
             "#fdca26"
            ],
            [
             1,
             "#f0f921"
            ]
           ],
           "sequentialminus": [
            [
             0,
             "#0d0887"
            ],
            [
             0.1111111111111111,
             "#46039f"
            ],
            [
             0.2222222222222222,
             "#7201a8"
            ],
            [
             0.3333333333333333,
             "#9c179e"
            ],
            [
             0.4444444444444444,
             "#bd3786"
            ],
            [
             0.5555555555555556,
             "#d8576b"
            ],
            [
             0.6666666666666666,
             "#ed7953"
            ],
            [
             0.7777777777777778,
             "#fb9f3a"
            ],
            [
             0.8888888888888888,
             "#fdca26"
            ],
            [
             1,
             "#f0f921"
            ]
           ]
          },
          "colorway": [
           "#636efa",
           "#EF553B",
           "#00cc96",
           "#ab63fa",
           "#FFA15A",
           "#19d3f3",
           "#FF6692",
           "#B6E880",
           "#FF97FF",
           "#FECB52"
          ],
          "font": {
           "color": "#2a3f5f"
          },
          "geo": {
           "bgcolor": "white",
           "lakecolor": "white",
           "landcolor": "#E5ECF6",
           "showlakes": true,
           "showland": true,
           "subunitcolor": "white"
          },
          "hoverlabel": {
           "align": "left"
          },
          "hovermode": "closest",
          "mapbox": {
           "style": "light"
          },
          "paper_bgcolor": "white",
          "plot_bgcolor": "#E5ECF6",
          "polar": {
           "angularaxis": {
            "gridcolor": "white",
            "linecolor": "white",
            "ticks": ""
           },
           "bgcolor": "#E5ECF6",
           "radialaxis": {
            "gridcolor": "white",
            "linecolor": "white",
            "ticks": ""
           }
          },
          "scene": {
           "xaxis": {
            "backgroundcolor": "#E5ECF6",
            "gridcolor": "white",
            "gridwidth": 2,
            "linecolor": "white",
            "showbackground": true,
            "ticks": "",
            "zerolinecolor": "white"
           },
           "yaxis": {
            "backgroundcolor": "#E5ECF6",
            "gridcolor": "white",
            "gridwidth": 2,
            "linecolor": "white",
            "showbackground": true,
            "ticks": "",
            "zerolinecolor": "white"
           },
           "zaxis": {
            "backgroundcolor": "#E5ECF6",
            "gridcolor": "white",
            "gridwidth": 2,
            "linecolor": "white",
            "showbackground": true,
            "ticks": "",
            "zerolinecolor": "white"
           }
          },
          "shapedefaults": {
           "line": {
            "color": "#2a3f5f"
           }
          },
          "ternary": {
           "aaxis": {
            "gridcolor": "white",
            "linecolor": "white",
            "ticks": ""
           },
           "baxis": {
            "gridcolor": "white",
            "linecolor": "white",
            "ticks": ""
           },
           "bgcolor": "#E5ECF6",
           "caxis": {
            "gridcolor": "white",
            "linecolor": "white",
            "ticks": ""
           }
          },
          "title": {
           "x": 0.05
          },
          "xaxis": {
           "automargin": true,
           "gridcolor": "white",
           "linecolor": "white",
           "ticks": "",
           "title": {
            "standoff": 15
           },
           "zerolinecolor": "white",
           "zerolinewidth": 2
          },
          "yaxis": {
           "automargin": true,
           "gridcolor": "white",
           "linecolor": "white",
           "ticks": "",
           "title": {
            "standoff": 15
           },
           "zerolinecolor": "white",
           "zerolinewidth": 2
          }
         }
        },
        "title": {
         "text": "Sentiments(GEMINI AI)"
        },
        "width": 800,
        "xaxis": {
         "anchor": "y",
         "autorange": true,
         "domain": [
          0,
          1
         ],
         "range": [
          -0.5,
          2.5
         ],
         "title": {
          "text": "pred_label"
         },
         "type": "category"
        },
        "xaxis2": {
         "anchor": "y2",
         "autorange": true,
         "domain": [
          0,
          1
         ],
         "matches": "x",
         "range": [
          -0.5,
          2.5
         ],
         "showgrid": true,
         "showticklabels": false,
         "type": "category"
        },
        "yaxis": {
         "anchor": "x",
         "autorange": true,
         "domain": [
          0,
          0.8316
         ],
         "range": [
          0,
          24.210526315789473
         ],
         "title": {
          "text": "count"
         }
        },
        "yaxis2": {
         "anchor": "x2",
         "autorange": true,
         "domain": [
          0.8416,
          1
         ],
         "matches": "y2",
         "range": [
          -0.5,
          0.5
         ],
         "showgrid": false,
         "showline": false,
         "showticklabels": false,
         "ticks": "",
         "type": "category"
        }
       }
      },
      "text/html": [
       "<div>                            <div id=\"9830cf3c-ab0e-4855-8dba-3276b772fdbe\" class=\"plotly-graph-div\" style=\"height:500px; width:800px;\"></div>            <script type=\"text/javascript\">                require([\"plotly\"], function(Plotly) {                    window.PLOTLYENV=window.PLOTLYENV || {};                                    if (document.getElementById(\"9830cf3c-ab0e-4855-8dba-3276b772fdbe\")) {                    Plotly.newPlot(                        \"9830cf3c-ab0e-4855-8dba-3276b772fdbe\",                        [{\"alignmentgroup\":\"True\",\"bingroup\":\"x\",\"hovertemplate\":\"pred_label=%{x}\\u003cbr\\u003ecount=%{y}\\u003cextra\\u003e\\u003c\\u002fextra\\u003e\",\"legendgroup\":\"\",\"marker\":{\"color\":\"#636efa\",\"pattern\":{\"shape\":\"\"}},\"name\":\"\",\"offsetgroup\":\"\",\"orientation\":\"v\",\"showlegend\":false,\"x\":[\"POSITIVE\",\"NEGATIVE\",\"NEUTRAL\",\"POSITIVE\",\"NEUTRAL\",\"NEGATIVE\",\"POSITIVE\",\"NEUTRAL\",\"POSITIVE\",\"NEGATIVE\",\"NEUTRAL\",\"NEGATIVE\",\"POSITIVE\",\"NEUTRAL\",\"POSITIVE\",\"NEGATIVE\",\"NEUTRAL\",\"NEGATIVE\",\"POSITIVE\",\"POSITIVE\",\"POSITIVE\",\"NEGATIVE\",\"NEUTRAL\",\"NEGATIVE\",\"POSITIVE\",\"POSITIVE\",\"NEGATIVE\",\"POSITIVE\",\"NEGATIVE\",\"POSITIVE\",\"NEGATIVE\",\"POSITIVE\",\"POSITIVE\",\"NEGATIVE\",\"POSITIVE\",\"NEGATIVE\",\"POSITIVE\",\"NEGATIVE\",\"POSITIVE\",\"NEUTRAL\",\"NEUTRAL\",\"POSITIVE\",\"NEGATIVE\",\"POSITIVE\",\"NEGATIVE\",\"POSITIVE\",\"NEGATIVE\",\"POSITIVE\",\"POSITIVE\",\"NEUTRAL\"],\"xaxis\":\"x\",\"yaxis\":\"y\",\"type\":\"histogram\"},{\"alignmentgroup\":\"True\",\"hovertemplate\":\"pred_label=%{x}\\u003cextra\\u003e\\u003c\\u002fextra\\u003e\",\"legendgroup\":\"\",\"marker\":{\"color\":\"#636efa\"},\"name\":\"\",\"notched\":true,\"offsetgroup\":\"\",\"showlegend\":false,\"x\":[\"POSITIVE\",\"NEGATIVE\",\"NEUTRAL\",\"POSITIVE\",\"NEUTRAL\",\"NEGATIVE\",\"POSITIVE\",\"NEUTRAL\",\"POSITIVE\",\"NEGATIVE\",\"NEUTRAL\",\"NEGATIVE\",\"POSITIVE\",\"NEUTRAL\",\"POSITIVE\",\"NEGATIVE\",\"NEUTRAL\",\"NEGATIVE\",\"POSITIVE\",\"POSITIVE\",\"POSITIVE\",\"NEGATIVE\",\"NEUTRAL\",\"NEGATIVE\",\"POSITIVE\",\"POSITIVE\",\"NEGATIVE\",\"POSITIVE\",\"NEGATIVE\",\"POSITIVE\",\"NEGATIVE\",\"POSITIVE\",\"POSITIVE\",\"NEGATIVE\",\"POSITIVE\",\"NEGATIVE\",\"POSITIVE\",\"NEGATIVE\",\"POSITIVE\",\"NEUTRAL\",\"NEUTRAL\",\"POSITIVE\",\"NEGATIVE\",\"POSITIVE\",\"NEGATIVE\",\"POSITIVE\",\"NEGATIVE\",\"POSITIVE\",\"POSITIVE\",\"NEUTRAL\"],\"xaxis\":\"x2\",\"yaxis\":\"y2\",\"type\":\"box\"}],                        {\"template\":{\"data\":{\"histogram2dcontour\":[{\"type\":\"histogram2dcontour\",\"colorbar\":{\"outlinewidth\":0,\"ticks\":\"\"},\"colorscale\":[[0.0,\"#0d0887\"],[0.1111111111111111,\"#46039f\"],[0.2222222222222222,\"#7201a8\"],[0.3333333333333333,\"#9c179e\"],[0.4444444444444444,\"#bd3786\"],[0.5555555555555556,\"#d8576b\"],[0.6666666666666666,\"#ed7953\"],[0.7777777777777778,\"#fb9f3a\"],[0.8888888888888888,\"#fdca26\"],[1.0,\"#f0f921\"]]}],\"choropleth\":[{\"type\":\"choropleth\",\"colorbar\":{\"outlinewidth\":0,\"ticks\":\"\"}}],\"histogram2d\":[{\"type\":\"histogram2d\",\"colorbar\":{\"outlinewidth\":0,\"ticks\":\"\"},\"colorscale\":[[0.0,\"#0d0887\"],[0.1111111111111111,\"#46039f\"],[0.2222222222222222,\"#7201a8\"],[0.3333333333333333,\"#9c179e\"],[0.4444444444444444,\"#bd3786\"],[0.5555555555555556,\"#d8576b\"],[0.6666666666666666,\"#ed7953\"],[0.7777777777777778,\"#fb9f3a\"],[0.8888888888888888,\"#fdca26\"],[1.0,\"#f0f921\"]]}],\"heatmap\":[{\"type\":\"heatmap\",\"colorbar\":{\"outlinewidth\":0,\"ticks\":\"\"},\"colorscale\":[[0.0,\"#0d0887\"],[0.1111111111111111,\"#46039f\"],[0.2222222222222222,\"#7201a8\"],[0.3333333333333333,\"#9c179e\"],[0.4444444444444444,\"#bd3786\"],[0.5555555555555556,\"#d8576b\"],[0.6666666666666666,\"#ed7953\"],[0.7777777777777778,\"#fb9f3a\"],[0.8888888888888888,\"#fdca26\"],[1.0,\"#f0f921\"]]}],\"heatmapgl\":[{\"type\":\"heatmapgl\",\"colorbar\":{\"outlinewidth\":0,\"ticks\":\"\"},\"colorscale\":[[0.0,\"#0d0887\"],[0.1111111111111111,\"#46039f\"],[0.2222222222222222,\"#7201a8\"],[0.3333333333333333,\"#9c179e\"],[0.4444444444444444,\"#bd3786\"],[0.5555555555555556,\"#d8576b\"],[0.6666666666666666,\"#ed7953\"],[0.7777777777777778,\"#fb9f3a\"],[0.8888888888888888,\"#fdca26\"],[1.0,\"#f0f921\"]]}],\"contourcarpet\":[{\"type\":\"contourcarpet\",\"colorbar\":{\"outlinewidth\":0,\"ticks\":\"\"}}],\"contour\":[{\"type\":\"contour\",\"colorbar\":{\"outlinewidth\":0,\"ticks\":\"\"},\"colorscale\":[[0.0,\"#0d0887\"],[0.1111111111111111,\"#46039f\"],[0.2222222222222222,\"#7201a8\"],[0.3333333333333333,\"#9c179e\"],[0.4444444444444444,\"#bd3786\"],[0.5555555555555556,\"#d8576b\"],[0.6666666666666666,\"#ed7953\"],[0.7777777777777778,\"#fb9f3a\"],[0.8888888888888888,\"#fdca26\"],[1.0,\"#f0f921\"]]}],\"surface\":[{\"type\":\"surface\",\"colorbar\":{\"outlinewidth\":0,\"ticks\":\"\"},\"colorscale\":[[0.0,\"#0d0887\"],[0.1111111111111111,\"#46039f\"],[0.2222222222222222,\"#7201a8\"],[0.3333333333333333,\"#9c179e\"],[0.4444444444444444,\"#bd3786\"],[0.5555555555555556,\"#d8576b\"],[0.6666666666666666,\"#ed7953\"],[0.7777777777777778,\"#fb9f3a\"],[0.8888888888888888,\"#fdca26\"],[1.0,\"#f0f921\"]]}],\"mesh3d\":[{\"type\":\"mesh3d\",\"colorbar\":{\"outlinewidth\":0,\"ticks\":\"\"}}],\"scatter\":[{\"fillpattern\":{\"fillmode\":\"overlay\",\"size\":10,\"solidity\":0.2},\"type\":\"scatter\"}],\"parcoords\":[{\"type\":\"parcoords\",\"line\":{\"colorbar\":{\"outlinewidth\":0,\"ticks\":\"\"}}}],\"scatterpolargl\":[{\"type\":\"scatterpolargl\",\"marker\":{\"colorbar\":{\"outlinewidth\":0,\"ticks\":\"\"}}}],\"bar\":[{\"error_x\":{\"color\":\"#2a3f5f\"},\"error_y\":{\"color\":\"#2a3f5f\"},\"marker\":{\"line\":{\"color\":\"#E5ECF6\",\"width\":0.5},\"pattern\":{\"fillmode\":\"overlay\",\"size\":10,\"solidity\":0.2}},\"type\":\"bar\"}],\"scattergeo\":[{\"type\":\"scattergeo\",\"marker\":{\"colorbar\":{\"outlinewidth\":0,\"ticks\":\"\"}}}],\"scatterpolar\":[{\"type\":\"scatterpolar\",\"marker\":{\"colorbar\":{\"outlinewidth\":0,\"ticks\":\"\"}}}],\"histogram\":[{\"marker\":{\"pattern\":{\"fillmode\":\"overlay\",\"size\":10,\"solidity\":0.2}},\"type\":\"histogram\"}],\"scattergl\":[{\"type\":\"scattergl\",\"marker\":{\"colorbar\":{\"outlinewidth\":0,\"ticks\":\"\"}}}],\"scatter3d\":[{\"type\":\"scatter3d\",\"line\":{\"colorbar\":{\"outlinewidth\":0,\"ticks\":\"\"}},\"marker\":{\"colorbar\":{\"outlinewidth\":0,\"ticks\":\"\"}}}],\"scattermapbox\":[{\"type\":\"scattermapbox\",\"marker\":{\"colorbar\":{\"outlinewidth\":0,\"ticks\":\"\"}}}],\"scatterternary\":[{\"type\":\"scatterternary\",\"marker\":{\"colorbar\":{\"outlinewidth\":0,\"ticks\":\"\"}}}],\"scattercarpet\":[{\"type\":\"scattercarpet\",\"marker\":{\"colorbar\":{\"outlinewidth\":0,\"ticks\":\"\"}}}],\"carpet\":[{\"aaxis\":{\"endlinecolor\":\"#2a3f5f\",\"gridcolor\":\"white\",\"linecolor\":\"white\",\"minorgridcolor\":\"white\",\"startlinecolor\":\"#2a3f5f\"},\"baxis\":{\"endlinecolor\":\"#2a3f5f\",\"gridcolor\":\"white\",\"linecolor\":\"white\",\"minorgridcolor\":\"white\",\"startlinecolor\":\"#2a3f5f\"},\"type\":\"carpet\"}],\"table\":[{\"cells\":{\"fill\":{\"color\":\"#EBF0F8\"},\"line\":{\"color\":\"white\"}},\"header\":{\"fill\":{\"color\":\"#C8D4E3\"},\"line\":{\"color\":\"white\"}},\"type\":\"table\"}],\"barpolar\":[{\"marker\":{\"line\":{\"color\":\"#E5ECF6\",\"width\":0.5},\"pattern\":{\"fillmode\":\"overlay\",\"size\":10,\"solidity\":0.2}},\"type\":\"barpolar\"}],\"pie\":[{\"automargin\":true,\"type\":\"pie\"}]},\"layout\":{\"autotypenumbers\":\"strict\",\"colorway\":[\"#636efa\",\"#EF553B\",\"#00cc96\",\"#ab63fa\",\"#FFA15A\",\"#19d3f3\",\"#FF6692\",\"#B6E880\",\"#FF97FF\",\"#FECB52\"],\"font\":{\"color\":\"#2a3f5f\"},\"hovermode\":\"closest\",\"hoverlabel\":{\"align\":\"left\"},\"paper_bgcolor\":\"white\",\"plot_bgcolor\":\"#E5ECF6\",\"polar\":{\"bgcolor\":\"#E5ECF6\",\"angularaxis\":{\"gridcolor\":\"white\",\"linecolor\":\"white\",\"ticks\":\"\"},\"radialaxis\":{\"gridcolor\":\"white\",\"linecolor\":\"white\",\"ticks\":\"\"}},\"ternary\":{\"bgcolor\":\"#E5ECF6\",\"aaxis\":{\"gridcolor\":\"white\",\"linecolor\":\"white\",\"ticks\":\"\"},\"baxis\":{\"gridcolor\":\"white\",\"linecolor\":\"white\",\"ticks\":\"\"},\"caxis\":{\"gridcolor\":\"white\",\"linecolor\":\"white\",\"ticks\":\"\"}},\"coloraxis\":{\"colorbar\":{\"outlinewidth\":0,\"ticks\":\"\"}},\"colorscale\":{\"sequential\":[[0.0,\"#0d0887\"],[0.1111111111111111,\"#46039f\"],[0.2222222222222222,\"#7201a8\"],[0.3333333333333333,\"#9c179e\"],[0.4444444444444444,\"#bd3786\"],[0.5555555555555556,\"#d8576b\"],[0.6666666666666666,\"#ed7953\"],[0.7777777777777778,\"#fb9f3a\"],[0.8888888888888888,\"#fdca26\"],[1.0,\"#f0f921\"]],\"sequentialminus\":[[0.0,\"#0d0887\"],[0.1111111111111111,\"#46039f\"],[0.2222222222222222,\"#7201a8\"],[0.3333333333333333,\"#9c179e\"],[0.4444444444444444,\"#bd3786\"],[0.5555555555555556,\"#d8576b\"],[0.6666666666666666,\"#ed7953\"],[0.7777777777777778,\"#fb9f3a\"],[0.8888888888888888,\"#fdca26\"],[1.0,\"#f0f921\"]],\"diverging\":[[0,\"#8e0152\"],[0.1,\"#c51b7d\"],[0.2,\"#de77ae\"],[0.3,\"#f1b6da\"],[0.4,\"#fde0ef\"],[0.5,\"#f7f7f7\"],[0.6,\"#e6f5d0\"],[0.7,\"#b8e186\"],[0.8,\"#7fbc41\"],[0.9,\"#4d9221\"],[1,\"#276419\"]]},\"xaxis\":{\"gridcolor\":\"white\",\"linecolor\":\"white\",\"ticks\":\"\",\"title\":{\"standoff\":15},\"zerolinecolor\":\"white\",\"automargin\":true,\"zerolinewidth\":2},\"yaxis\":{\"gridcolor\":\"white\",\"linecolor\":\"white\",\"ticks\":\"\",\"title\":{\"standoff\":15},\"zerolinecolor\":\"white\",\"automargin\":true,\"zerolinewidth\":2},\"scene\":{\"xaxis\":{\"backgroundcolor\":\"#E5ECF6\",\"gridcolor\":\"white\",\"linecolor\":\"white\",\"showbackground\":true,\"ticks\":\"\",\"zerolinecolor\":\"white\",\"gridwidth\":2},\"yaxis\":{\"backgroundcolor\":\"#E5ECF6\",\"gridcolor\":\"white\",\"linecolor\":\"white\",\"showbackground\":true,\"ticks\":\"\",\"zerolinecolor\":\"white\",\"gridwidth\":2},\"zaxis\":{\"backgroundcolor\":\"#E5ECF6\",\"gridcolor\":\"white\",\"linecolor\":\"white\",\"showbackground\":true,\"ticks\":\"\",\"zerolinecolor\":\"white\",\"gridwidth\":2}},\"shapedefaults\":{\"line\":{\"color\":\"#2a3f5f\"}},\"annotationdefaults\":{\"arrowcolor\":\"#2a3f5f\",\"arrowhead\":0,\"arrowwidth\":1},\"geo\":{\"bgcolor\":\"white\",\"landcolor\":\"#E5ECF6\",\"subunitcolor\":\"white\",\"showland\":true,\"showlakes\":true,\"lakecolor\":\"white\"},\"title\":{\"x\":0.05},\"mapbox\":{\"style\":\"light\"}}},\"xaxis\":{\"anchor\":\"y\",\"domain\":[0.0,1.0],\"title\":{\"text\":\"pred_label\"}},\"yaxis\":{\"anchor\":\"x\",\"domain\":[0.0,0.8316],\"title\":{\"text\":\"count\"}},\"xaxis2\":{\"anchor\":\"y2\",\"domain\":[0.0,1.0],\"matches\":\"x\",\"showticklabels\":false,\"showgrid\":true},\"yaxis2\":{\"anchor\":\"x2\",\"domain\":[0.8416,1.0],\"matches\":\"y2\",\"showticklabels\":false,\"showline\":false,\"ticks\":\"\",\"showgrid\":false},\"legend\":{\"tracegroupgap\":0},\"title\":{\"text\":\"Sentiments(GEMINI AI)\"},\"barmode\":\"relative\",\"height\":500,\"width\":800,\"bargap\":0.1},                        {\"responsive\": true}                    ).then(function(){\n",
       "                            \n",
       "var gd = document.getElementById('9830cf3c-ab0e-4855-8dba-3276b772fdbe');\n",
       "var x = new MutationObserver(function (mutations, observer) {{\n",
       "        var display = window.getComputedStyle(gd).display;\n",
       "        if (!display || display === 'none') {{\n",
       "            console.log([gd, 'removed!']);\n",
       "            Plotly.purge(gd);\n",
       "            observer.disconnect();\n",
       "        }}\n",
       "}});\n",
       "\n",
       "// Listen for the removal of the full notebook cells\n",
       "var notebookContainer = gd.closest('#notebook-container');\n",
       "if (notebookContainer) {{\n",
       "    x.observe(notebookContainer, {childList: true});\n",
       "}}\n",
       "\n",
       "// Listen for the clearing of the current output cell\n",
       "var outputEl = gd.closest('.output');\n",
       "if (outputEl) {{\n",
       "    x.observe(outputEl, {childList: true});\n",
       "}}\n",
       "\n",
       "                        })                };                });            </script>        </div>"
      ]
     },
     "metadata": {},
     "output_type": "display_data"
    }
   ],
   "source": [
    "px.defaults.height = 500\n",
    "px.defaults.width = 800\n",
    "fig = px.histogram(results_df,\n",
    "                   x = 'pred_label',\n",
    "                   marginal = 'box',\n",
    "                   title = 'Sentiments(GEMINI AI)')\n",
    "fig.update_layout(bargap=0.1)\n",
    "fig.show()"
   ]
  },
  {
   "cell_type": "code",
   "execution_count": 61,
   "id": "1bd18f29-b36a-456e-a1fc-4e6be9db382f",
   "metadata": {},
   "outputs": [
    {
     "data": {
      "image/png": "[encoded data removed]",
      "text/plain": [
       "<Figure size 640x480 with 1 Axes>"
      ]
     },
     "metadata": {},
     "output_type": "display_data"
    }
   ],
   "source": [
    "sns.countplot(x='pred_label', data=results_df)\n",
    "plt.title('Sentiment Distribution (GEMINI AI)')\n",
    "plt.xlabel('Sentiment')\n",
    "plt.ylabel('Count')\n",
    "plt.show()"
   ]
  },
  {
   "cell_type": "code",
   "execution_count": null,
   "id": "8fd0b98b-5058-46d4-8472-7ede2c98b3d9",
   "metadata": {},
   "outputs": [],
   "source": []
  }
 ],
 "metadata": {
  "kernelspec": {
   "display_name": "Python 3 (ipykernel)",
   "language": "python",
   "name": "python3"
  },
  "language_info": {
   "codemirror_mode": {
    "name": "ipython",
    "version": 3
   },
   "file_extension": ".py",
   "mimetype": "text/x-python",
   "name": "python",
   "nbconvert_exporter": "python",
   "pygments_lexer": "ipython3",
   "version": "3.10.1"
  }
 },
 "nbformat": 4,
 "nbformat_minor": 5
}
